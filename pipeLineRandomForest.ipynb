{
 "cells": [
  {
   "attachments": {},
   "cell_type": "markdown",
   "metadata": {},
   "source": [
    "## 1. Importacion de librerias"
   ]
  },
  {
   "cell_type": "code",
   "execution_count": 8,
   "metadata": {},
   "outputs": [],
   "source": [
    "import pandas as pd\n",
    "import numpy as np\n",
    "import re\n",
    "\n",
    "# Librerias para el preprocesamiento\n",
    "import spacy\n",
    "nlp = spacy.load('es_core_news_sm')\n",
    "\n",
    "# Librerias para transformar los datos\n",
    "from sklearn.preprocessing import FunctionTransformer\n",
    "from sklearn.base import BaseEstimator, TransformerMixin\n",
    "\n",
    "\n",
    "\n",
    "# Librerias para vectorizar \n",
    "from sklearn.feature_extraction.text import TfidfVectorizer\n",
    "from sklearn.feature_extraction.text import CountVectorizer\n",
    "from sklearn.feature_extraction.text import TfidfTransformer\n",
    "\n",
    "# Librerias para el modelo\n",
    "from sklearn.model_selection import train_test_split\n",
    "from sklearn.naive_bayes import MultinomialNB\n",
    "from sklearn.ensemble import RandomForestClassifier\n",
    "\n",
    "# Librerias para la evaluacion\n",
    "from sklearn.metrics import make_scorer, accuracy_score, precision_score, recall_score, f1_score\n",
    "from sklearn.model_selection import cross_val_score\n",
    "\n",
    "# Librerias para la busqueda de hiperparametros\n",
    "from sklearn.model_selection import GridSearchCV\n",
    "\n",
    "# Librerias para el pipeline\n",
    "from sklearn.pipeline import Pipeline\n",
    "\n",
    "# Librerias para exportar el modelo\n",
    "from joblib import dump, load"
   ]
  },
  {
   "attachments": {},
   "cell_type": "markdown",
   "metadata": {},
   "source": [
    "## 2. Carga de datos"
   ]
  },
  {
   "cell_type": "code",
   "execution_count": 9,
   "metadata": {},
   "outputs": [],
   "source": [
    "# Carga del csv entrenamiento\n",
    "file_name = './data/MovieReviews.csv'\n",
    "raw = pd.read_csv(file_name, sep=',')\n",
    "reviews = raw.copy()"
   ]
  },
  {
   "attachments": {},
   "cell_type": "markdown",
   "metadata": {},
   "source": [
    "## 4. Creacion del pipeline"
   ]
  },
  {
   "cell_type": "code",
   "execution_count": 10,
   "metadata": {},
   "outputs": [],
   "source": [
    "# Funcion para limpiar el texto utilizando spacy\n",
    "def clean_text(text):\n",
    "    # Pasar a minusculas\n",
    "    text = text.lower()\n",
    "\n",
    "    # Eliminar las tildes\n",
    "    text = re.sub(r'[á]', 'a', text)\n",
    "    text = re.sub(r'[é]', 'e', text)\n",
    "    text = re.sub(r'[í]', 'i', text)\n",
    "    text = re.sub(r'[ó]', 'o', text)\n",
    "    text = re.sub(r'[ú]', 'u', text)\n",
    "    \n",
    "    # Eliminar los numeros\n",
    "    text = re.sub(r'\\d+', ' ', text)\n",
    "\n",
    "    # Eliminar los signos de puntuacion\n",
    "    text = re.sub(r'[^\\w\\s]', ' ', text)\n",
    "\n",
    "    # Tokenizar\n",
    "    tokens = nlp(text)\n",
    "\n",
    "    # Eliminar stopwords\n",
    "    tokens = [token.text for token in tokens if not token.is_stop]\n",
    "\n",
    "    # Unir los tokens\n",
    "    text = ' '.join(tokens)\n",
    "\n",
    "    return text"
   ]
  },
  {
   "cell_type": "code",
   "execution_count": 11,
   "metadata": {},
   "outputs": [],
   "source": [
    "pipe = Pipeline([\n",
    "                ('tfidf', CountVectorizer(preprocessor=clean_text)),\n",
    "                ('model', RandomForestClassifier())\n",
    "])"
   ]
  },
  {
   "attachments": {},
   "cell_type": "markdown",
   "metadata": {},
   "source": [
    "## 5. Ejecucion y analisis"
   ]
  },
  {
   "cell_type": "code",
   "execution_count": 12,
   "metadata": {},
   "outputs": [],
   "source": [
    "# Separacion de las variables de decision y de prediccion\n",
    "X = reviews['review_es']\n",
    "Y = reviews['sentimiento']"
   ]
  },
  {
   "cell_type": "code",
   "execution_count": 13,
   "metadata": {},
   "outputs": [],
   "source": [
    "# Creacion de los conjuntos de entrenamiento y prueba\n",
    "X_train, X_test, y_train, y_test = train_test_split(X, Y, test_size=0.2, random_state=0)\n",
    "y_train = y_train.values.ravel()"
   ]
  },
  {
   "cell_type": "code",
   "execution_count": 14,
   "metadata": {},
   "outputs": [],
   "source": [
    "# Entrenamiento del modelo\n",
    "model = pipe.fit(X_train, y_train)"
   ]
  },
  {
   "cell_type": "code",
   "execution_count": 15,
   "metadata": {},
   "outputs": [],
   "source": [
    "# Realizar predicciones en el conjunto de entrenaiento y prueba\n",
    "y_train_pred = model.predict(X_train)\n",
    "y_test_pred = model.predict(X_test)"
   ]
  },
  {
   "cell_type": "code",
   "execution_count": 16,
   "metadata": {},
   "outputs": [],
   "source": [
    "# Calcular las metricas de evaluacion\n",
    "train_accuracy = accuracy_score(y_train, y_train_pred)\n",
    "train_precision = precision_score(y_train, y_train_pred, pos_label='positivo')\n",
    "train_recall = recall_score(y_train, y_train_pred, pos_label='positivo')\n",
    "train_f1 = f1_score(y_train, y_train_pred, pos_label='positivo')\n",
    "\n",
    "test_accuracy = accuracy_score(y_test, y_test_pred)\n",
    "test_precision = precision_score(y_test, y_test_pred, pos_label='positivo')\n",
    "test_recall = recall_score(y_test, y_test_pred, pos_label='positivo')\n",
    "test_f1 = f1_score(y_test, y_test_pred, pos_label='positivo')"
   ]
  },
  {
   "cell_type": "code",
   "execution_count": 17,
   "metadata": {},
   "outputs": [
    {
     "name": "stdout",
     "output_type": "stream",
     "text": [
      "\n",
      "Metricas del conjunto de entrenamiento:\n",
      "Accuracy: 1.0\n",
      "Precision: 1.0\n",
      "Recall: 1.0\n",
      "F1 score: 1.0\n",
      "\n",
      "Metricas del conjunto de prueba:\n",
      "Accuracy: 0.786\n",
      "Precision: 0.7763975155279503\n",
      "Recall: 0.7796257796257796\n",
      "F1 score: 0.7780082987551866\n"
     ]
    }
   ],
   "source": [
    "# Imprimir las metricas de evaluacion\n",
    "print('\\nMetricas del conjunto de entrenamiento:')\n",
    "print(\"Accuracy:\",  train_accuracy)\n",
    "print(\"Precision:\", train_precision)\n",
    "print(\"Recall:\",    train_recall)\n",
    "print(\"F1 score:\",  train_f1)\n",
    "\n",
    "# Imprimir las metricas de evaluacion\n",
    "print('\\nMetricas del conjunto de prueba:')\n",
    "print(\"Accuracy:\",  test_accuracy)\n",
    "print(\"Precision:\", test_precision)\n",
    "print(\"Recall:\",    test_recall)\n",
    "print(\"F1 score:\",  test_f1)"
   ]
  }
 ],
 "metadata": {
  "kernelspec": {
   "display_name": "Python 3",
   "language": "python",
   "name": "python3"
  },
  "language_info": {
   "codemirror_mode": {
    "name": "ipython",
    "version": 3
   },
   "file_extension": ".py",
   "mimetype": "text/x-python",
   "name": "python",
   "nbconvert_exporter": "python",
   "pygments_lexer": "ipython3",
   "version": "3.11.1"
  },
  "orig_nbformat": 4
 },
 "nbformat": 4,
 "nbformat_minor": 2
}
